{
  "nbformat": 4,
  "nbformat_minor": 0,
  "metadata": {
    "colab": {
      "name": "Chapter 3. 그리디.ipynb",
      "provenance": [],
      "collapsed_sections": [],
      "authorship_tag": "ABX9TyMpx7uOE4YWTULfF0y+GB/z",
      "include_colab_link": true
    },
    "kernelspec": {
      "name": "python3",
      "display_name": "Python 3"
    }
  },
  "cells": [
    {
      "cell_type": "markdown",
      "metadata": {
        "id": "view-in-github",
        "colab_type": "text"
      },
      "source": [
        "<a href=\"https://colab.research.google.com/github/choi-yh/python_for_coding_test/blob/master/Chapter_3_%EA%B7%B8%EB%A6%AC%EB%94%94.ipynb\" target=\"_parent\"><img src=\"https://colab.research.google.com/assets/colab-badge.svg\" alt=\"Open In Colab\"/></a>"
      ]
    },
    {
      "cell_type": "markdown",
      "metadata": {
        "id": "Zke0RRhj28Bz",
        "colab_type": "text"
      },
      "source": [
        "### 예제 3-1 거스름돈"
      ]
    },
    {
      "cell_type": "code",
      "metadata": {
        "id": "o_hNluSF3IRF",
        "colab_type": "code",
        "colab": {
          "base_uri": "https://localhost:8080/",
          "height": 53
        },
        "outputId": "617223b0-f25f-47ae-a9d1-fabcbd591556"
      },
      "source": [
        "N = int(input()) # 거슬러 줘야 할 돈\n",
        "change = [500, 100, 50, 10]\n",
        "\n",
        "result = 0\n",
        "for money in change:\n",
        "    tmp = N // money\n",
        "    result += tmp\n",
        "    N -= tmp * money\n",
        "\n",
        "print(result)"
      ],
      "execution_count": null,
      "outputs": [
        {
          "output_type": "stream",
          "text": [
            "1260\n",
            "6\n"
          ],
          "name": "stdout"
        }
      ]
    },
    {
      "cell_type": "code",
      "metadata": {
        "id": "zaYU4ZRL4RL_",
        "colab_type": "code",
        "colab": {
          "base_uri": "https://localhost:8080/",
          "height": 35
        },
        "outputId": "a7df6d07-8a62-4109-a3db-f3f803a22e7c"
      },
      "source": [
        "n = 1260\n",
        "count = 0\n",
        "\n",
        "# 큰 단위의 화폐부터 차례대로 확인\n",
        "coins = [500, 100, 50, 10]\n",
        "\n",
        "for coin in coins:\n",
        "    count += n // coin # 해당 화폐로 거슬러 줄 수 있는 동전의 개수 세기\n",
        "    n %= coin\n",
        "\n",
        "print(count)"
      ],
      "execution_count": null,
      "outputs": [
        {
          "output_type": "stream",
          "text": [
            "6\n"
          ],
          "name": "stdout"
        }
      ]
    },
    {
      "cell_type": "markdown",
      "metadata": {
        "id": "2OLxEpo532cd",
        "colab_type": "text"
      },
      "source": [
        "### 실전 문제 2. 큰 수의 법칙 (2019 국가 교육기관 코딩 테스트)"
      ]
    },
    {
      "cell_type": "code",
      "metadata": {
        "id": "QY4tTAhV5qQ4",
        "colab_type": "code",
        "colab": {
          "base_uri": "https://localhost:8080/",
          "height": 71
        },
        "outputId": "7bec0a26-5e7d-41bd-f5ab-6e26f95e982f"
      },
      "source": [
        "# 5 8 3\n",
        "# 2 4 5 4 6\n",
        "# 46\n",
        "\n",
        "N, M, K = map(int, input().split())\n",
        "num = list(map(int, input().split()))\n",
        "\n",
        "sorted_num = sorted(num, reverse=True)\n",
        "first = sorted_num[0]\n",
        "second = sorted_num[1]\n",
        "\n",
        "result = 0\n",
        "if first == second:\n",
        "    result = first * M\n",
        "else:\n",
        "    cnt = 0\n",
        "    for _ in range(M):\n",
        "        if cnt > K:\n",
        "            result += second\n",
        "            cnt = 0\n",
        "        else:\n",
        "            result += first\n",
        "        cnt += 1\n",
        "\n",
        "print(result)"
      ],
      "execution_count": null,
      "outputs": [
        {
          "output_type": "stream",
          "text": [
            "5 8 3\n",
            "2 4 5 4 6\n",
            "47\n"
          ],
          "name": "stdout"
        }
      ]
    },
    {
      "cell_type": "markdown",
      "metadata": {
        "id": "C3uI82x5AqwC",
        "colab_type": "text"
      },
      "source": [
        "### 실전 문제 3. 숫자 카드 게임 (2019 국가 교육기관 코딩 테스트)"
      ]
    },
    {
      "cell_type": "code",
      "metadata": {
        "id": "-4CPkeTmD9wr",
        "colab_type": "code",
        "colab": {
          "base_uri": "https://localhost:8080/",
          "height": 89
        },
        "outputId": "e0dad120-cf3c-4a76-eb71-863343b65002"
      },
      "source": [
        "# 조건에 따라서 메모리 문제가 생길수도 있을 것 같다.\n",
        "\n",
        "N, M = map(int, input().split())\n",
        "cards = [list(map(int, input().split())) for _ in range(N)]\n",
        "\n",
        "result = []\n",
        "for card in cards:\n",
        "    result.append(min(card))\n",
        "\n",
        "print(max(result))"
      ],
      "execution_count": null,
      "outputs": [
        {
          "output_type": "stream",
          "text": [
            "2 4\n",
            "7 3 1 8\n",
            "3 3 3 4\n",
            "3\n"
          ],
          "name": "stdout"
        }
      ]
    },
    {
      "cell_type": "markdown",
      "metadata": {
        "id": "r1feUPbnD95M",
        "colab_type": "text"
      },
      "source": [
        "### 실전 문제 4. 1이 될 때까지 (2018 E 기업 알고리즘 대회)"
      ]
    },
    {
      "cell_type": "code",
      "metadata": {
        "id": "UwGsAAxSD97g",
        "colab_type": "code",
        "colab": {
          "base_uri": "https://localhost:8080/",
          "height": 53
        },
        "outputId": "21860742-cae2-47be-d3eb-cde70645ab6b"
      },
      "source": [
        "N, K = map(int, input().split())\n",
        "\n",
        "count = 0\n",
        "while N != 1:\n",
        "    if N % K == 0:\n",
        "        N /= K\n",
        "    else:\n",
        "        N -= 1\n",
        "    count +=1\n",
        "\n",
        "print(count)"
      ],
      "execution_count": null,
      "outputs": [
        {
          "output_type": "stream",
          "text": [
            "17 4\n",
            "3\n"
          ],
          "name": "stdout"
        }
      ]
    },
    {
      "cell_type": "code",
      "metadata": {
        "id": "TO2R8KnWD99m",
        "colab_type": "code",
        "colab": {}
      },
      "source": [
        ""
      ],
      "execution_count": null,
      "outputs": []
    },
    {
      "cell_type": "code",
      "metadata": {
        "id": "_hRpTgNLD9_s",
        "colab_type": "code",
        "colab": {}
      },
      "source": [
        ""
      ],
      "execution_count": null,
      "outputs": []
    },
    {
      "cell_type": "code",
      "metadata": {
        "id": "uYiDLb12_1Vm",
        "colab_type": "code",
        "colab": {}
      },
      "source": [
        ""
      ],
      "execution_count": null,
      "outputs": []
    },
    {
      "cell_type": "code",
      "metadata": {
        "id": "9jB2RS-v_1ab",
        "colab_type": "code",
        "colab": {}
      },
      "source": [
        ""
      ],
      "execution_count": null,
      "outputs": []
    }
  ]
}
