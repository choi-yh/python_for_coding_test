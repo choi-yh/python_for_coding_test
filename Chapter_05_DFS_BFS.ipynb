{
  "nbformat": 4,
  "nbformat_minor": 0,
  "metadata": {
    "colab": {
      "name": "Chapter 5. DFS/BFS.ipynb",
      "provenance": [],
      "collapsed_sections": [],
      "authorship_tag": "ABX9TyM/WKyMyBs3yzXLCJr0pTZe",
      "include_colab_link": true
    },
    "kernelspec": {
      "name": "python3",
      "display_name": "Python 3"
    }
  },
  "cells": [
    {
      "cell_type": "markdown",
      "metadata": {
        "id": "view-in-github",
        "colab_type": "text"
      },
      "source": [
        "<a href=\"https://colab.research.google.com/github/choi-yh/python_for_coding_test/blob/master/Chapter_5_DFS_BFS.ipynb\" target=\"_parent\"><img src=\"https://colab.research.google.com/assets/colab-badge.svg\" alt=\"Open In Colab\"/></a>"
      ]
    },
    {
      "cell_type": "markdown",
      "metadata": {
        "id": "6CwUA32ax6Hd",
        "colab_type": "text"
      },
      "source": [
        "## 1. 꼭 필요한 자료구조 기초\n",
        "\n",
        "* **탐색(Search)**\n",
        "    * 많은 양의 데이터 중에서 원하는 데이터를 찾는 과정 / DFS/BFS가 대표적인 알고리즘\n",
        "\n",
        "* **스택 (Stack)**\n",
        "    * LIFO(Last In First Out)\n",
        "    * 리스트 자료형 사용 (append, pop)\n",
        "\n",
        "* **큐 (Queue)**\n",
        "    * FIFO (First In First Out) \n",
        "    * *from collections import deque* 라이브러리 사용\n",
        "\n",
        "* **재귀 함수**\n",
        "    * 자기 자신을 다시 호출하는 함수 \n",
        "    * 종료조건 명시 필요\n",
        "    * 컴퓨터 내부에서 스택 자료구조를 활용해 수행한다. (함수 호출시 가장 마지막에 호출한 함수가 수행을 끝내야 앞의 함수 호출이 종료 되기 때문)\n",
        "    * 반복문과 비교했을 때 코드가 간결해진다.\n",
        "\n"
      ]
    },
    {
      "cell_type": "code",
      "metadata": {
        "id": "Y_4gLTDAx9OJ",
        "colab_type": "code",
        "colab": {
          "base_uri": "https://localhost:8080/",
          "height": 52
        },
        "outputId": "aa636485-6297-48e4-b9ae-36ef30e85a40"
      },
      "source": [
        "# 큐 예제\n",
        "from collections import deque\n",
        "\n",
        "queue = deque()\n",
        "queue.append(1)\n",
        "queue.append(2)\n",
        "queue.append(3)\n",
        "queue.popleft()\n",
        "queue.append(4)\n",
        "queue.appendleft(5)\n",
        "queue.append(6)\n",
        "\n",
        "print(queue)\n",
        "queue.reverse()\n",
        "print(queue)"
      ],
      "execution_count": null,
      "outputs": [
        {
          "output_type": "stream",
          "text": [
            "deque([5, 2, 3, 4, 6])\n",
            "deque([6, 4, 3, 2, 5])\n"
          ],
          "name": "stdout"
        }
      ]
    },
    {
      "cell_type": "code",
      "metadata": {
        "id": "yFM6yuYlx9R4",
        "colab_type": "code",
        "colab": {
          "base_uri": "https://localhost:8080/",
          "height": 334
        },
        "outputId": "16e95714-68fe-4bf6-b3dc-6b43c30ab6cd"
      },
      "source": [
        "# 재귀 함수 종료 예제\n",
        "def recursive_function(i):\n",
        "    # 10 번째 출력했을 때 종료되도록 종료 조건 명시\n",
        "    if i == 10:\n",
        "        return\n",
        "    print(f\"{i} 번째 재귀 함수에서 {i+1} 번째 재귀 함수를 호출합니다.\")\n",
        "    recursive_function(i+1)\n",
        "    print(i, '번째 재귀 함수를 종료합니다.')\n",
        "\n",
        "recursive_function(1)"
      ],
      "execution_count": null,
      "outputs": [
        {
          "output_type": "stream",
          "text": [
            "1 번째 재귀 함수에서 2 번째 재귀 함수를 호출합니다.\n",
            "2 번째 재귀 함수에서 3 번째 재귀 함수를 호출합니다.\n",
            "3 번째 재귀 함수에서 4 번째 재귀 함수를 호출합니다.\n",
            "4 번째 재귀 함수에서 5 번째 재귀 함수를 호출합니다.\n",
            "5 번째 재귀 함수에서 6 번째 재귀 함수를 호출합니다.\n",
            "6 번째 재귀 함수에서 7 번째 재귀 함수를 호출합니다.\n",
            "7 번째 재귀 함수에서 8 번째 재귀 함수를 호출합니다.\n",
            "8 번째 재귀 함수에서 9 번째 재귀 함수를 호출합니다.\n",
            "9 번째 재귀 함수에서 10 번째 재귀 함수를 호출합니다.\n",
            "9 번째 재귀 함수를 종료합니다.\n",
            "8 번째 재귀 함수를 종료합니다.\n",
            "7 번째 재귀 함수를 종료합니다.\n",
            "6 번째 재귀 함수를 종료합니다.\n",
            "5 번째 재귀 함수를 종료합니다.\n",
            "4 번째 재귀 함수를 종료합니다.\n",
            "3 번째 재귀 함수를 종료합니다.\n",
            "2 번째 재귀 함수를 종료합니다.\n",
            "1 번째 재귀 함수를 종료합니다.\n"
          ],
          "name": "stdout"
        }
      ]
    },
    {
      "cell_type": "markdown",
      "metadata": {
        "id": "hxzzs0GY7ekG",
        "colab_type": "text"
      },
      "source": [
        "## 2. 탐색 알고리즘 DFS / BFS"
      ]
    },
    {
      "cell_type": "markdown",
      "metadata": {
        "id": "-JYnNK8Yzusr",
        "colab_type": "text"
      },
      "source": [
        "###  **DFS** (Depth-First Search)\n",
        "* 깊이 우선 탐색, 그래프에서 깊은 부분을 우선적으로 탐색한다.\n",
        "* 그래프\n",
        "    * *인접 행렬* 방식과 *인접 리스트* 방식을 사용해 구현\n",
        "    * 인접행렬: 노드 개수가 많을 수록 메모리가 낭비됨 (모든 관계를 저장하기 때문)\n",
        "    * 인접 리스트: 메모리를 효율적으로 사용 (연결된 정보만 저장) / 특정한 두 노드가 연결되어 있는지에 대한 정보를 얻는 속도가 느리다.(연결된 데이터를 하나씩 확인해야하기 때문)\n",
        "\n",
        "* 스택 자료구조를 이용하여 구현\n",
        "    1. 탐색 시작 노드를 스택에 삽입하고 방문 처리\n",
        "    2. 스택의 최상단 노드에 방문하지 않은 인접 노드가 있으면 그 인접 노드를 스택에 넣고 방문 처리. 방문하지 않은 인접 노드가 없으면 스택에서 최상단 노드를 꺼낸다.\n",
        "    3. 2번의 과정을 더 이상 수행할 수 없을 때까지 반복한다.\n",
        "\n",
        "* O(N)의 시간 복잡도를 가진다.\n",
        "\n",
        "* 스택을 사용하기 때문에 재귀 함수를 이용했을 때 간결하게 구현이 가능하다."
      ]
    },
    {
      "cell_type": "code",
      "metadata": {
        "id": "AFGN5EIEzv2o",
        "colab_type": "code",
        "colab": {
          "base_uri": "https://localhost:8080/",
          "height": 34
        },
        "outputId": "5512a818-1149-4f6a-9ff4-767f6ffc2d16"
      },
      "source": [
        "# 인접 행렬 방식 예제\n",
        "INF = 999999999 # 무한의 비용 선언\n",
        "\n",
        "# 2차원 리스트를 이용해 인접 행렬 표현\n",
        "graph = [\n",
        "         [0, 7, 5],\n",
        "         [7, 0, INF],\n",
        "         [5, INF, 0]\n",
        "]\n",
        "\n",
        "print(graph)"
      ],
      "execution_count": null,
      "outputs": [
        {
          "output_type": "stream",
          "text": [
            "[[0, 7, 5], [7, 0, 999999999], [5, 999999999, 0]]\n"
          ],
          "name": "stdout"
        }
      ]
    },
    {
      "cell_type": "code",
      "metadata": {
        "id": "yKwtHk0szv6e",
        "colab_type": "code",
        "colab": {
          "base_uri": "https://localhost:8080/",
          "height": 34
        },
        "outputId": "537ee3bc-51df-4c7f-9e07-ca111b9ed299"
      },
      "source": [
        "# 인접 리스트 방식 예제\n",
        "# 행이 3개인 2차원 리스트로 인접 리스트 표현\n",
        "graph = [[] for _ in range(3)]\n",
        "\n",
        "# 노드 0에 연결된 노드 정보 저장(노드, 거리)\n",
        "graph[0].append((1, 7))\n",
        "graph[0].append((2, 5))\n",
        "\n",
        "# 노드 1에 연결된 노드 정보 저장(노드, 거리)\n",
        "graph[1].append((0, 7))\n",
        "\n",
        "# 노드 2에 연결된 노드 정보 저장(노드, 거리)\n",
        "graph[2].append((0, 5))\n",
        "\n",
        "print(graph)"
      ],
      "execution_count": null,
      "outputs": [
        {
          "output_type": "stream",
          "text": [
            "[[(1, 7), (2, 5)], [(0, 7)], [(0, 5)]]\n"
          ],
          "name": "stdout"
        }
      ]
    },
    {
      "cell_type": "code",
      "metadata": {
        "id": "b96z2gIDzv-H",
        "colab_type": "code",
        "colab": {
          "base_uri": "https://localhost:8080/",
          "height": 34
        },
        "outputId": "aec48e30-d4a9-4c6f-afbb-9aca2b8b7129"
      },
      "source": [
        "# DFS 예제\n",
        "\n",
        "# DFS 메서드 정의\n",
        "def dfs(graph, v, visited):\n",
        "    # 현재 노드를 방문 처리\n",
        "    visited[v] = True\n",
        "    print(v, end=' ')\n",
        "    # 현재 노드와 연결된 다른 노드를 재귀적으로 방문\n",
        "    for i in graph[v]:\n",
        "        if not visited[i]:\n",
        "            dfs(graph, i, visited)\n",
        "\n",
        "# 각 노드가 연결된 정보를 리스트 자료형으로 표현 (2차원 리스트)\n",
        "graph = [\n",
        "         [],\n",
        "         [2, 3, 8],\n",
        "         [1, 7],\n",
        "         [1, 4, 5],\n",
        "         [3, 5],\n",
        "         [3, 4],\n",
        "         [7],\n",
        "         [2, 6, 8],\n",
        "         [1, 7]\n",
        "]\n",
        "\n",
        "# 각 노드가 방문된 정보를 리스트 자료형으로 표현 (1차원 리스트)\n",
        "visited = [False] * 9\n",
        "\n",
        "# 정의된 DFS 함수 호출\n",
        "dfs(graph, 1, visited)"
      ],
      "execution_count": null,
      "outputs": [
        {
          "output_type": "stream",
          "text": [
            "1 2 7 6 8 3 4 5 "
          ],
          "name": "stdout"
        }
      ]
    },
    {
      "cell_type": "markdown",
      "metadata": {
        "id": "pyFn76cu2CXO",
        "colab_type": "text"
      },
      "source": [
        "### **BFS** (Breadth-First Search)\n",
        "\n",
        "* 너비 우선 탐색, 가까운 노드부터 탐색\n",
        "* 큐 자료구조 활용\n",
        "    1. 탐색 시작 노드를 큐에 삽입하고 방문 처리\n",
        "    2. 큐에서 노드를 꺼내 해당 노드의 인접 노드 중에서 **방문하지 않은 노드를 모두 큐에 삽입**하고 방문 처리\n",
        "    3. 2번의 과정을 더 이상 수행할 수 없을 때까지 반복"
      ]
    },
    {
      "cell_type": "code",
      "metadata": {
        "id": "P4ovXB1M2Cbf",
        "colab_type": "code",
        "colab": {
          "base_uri": "https://localhost:8080/",
          "height": 34
        },
        "outputId": "d30b3d01-fd3e-43fe-f9b3-7f3a655946ad"
      },
      "source": [
        "# BFS 예제\n",
        "from collections import deque\n",
        "\n",
        "# BFS 메서드 정의\n",
        "def bfs(graph, start, visited):\n",
        "    # 큐 구현을 위해 deque 라이브러리 사용\n",
        "    queue = deque([start])\n",
        "    # 현재 노드 방문 처리\n",
        "    visited[start] = True\n",
        "    # 큐가 빌 때까지 반복\n",
        "    while queue:\n",
        "        # 큐에서 하나의 원소를 뽑아 출력\n",
        "        v = queue.popleft()\n",
        "        print(v, end=' ')\n",
        "        # 해당 원소와 연결된, 아직 방문하지 않은 원소들을 큐에 삽입\n",
        "        for i in graph[v]:\n",
        "            if not visited[i]:\n",
        "                queue.append(i)\n",
        "                visited[i] = True\n",
        "\n",
        "# 각 노드가 연결된 정보를 리스트 자료형으로 표현 (2차원 리스트)\n",
        "graph = [\n",
        "         [],\n",
        "         [2, 3, 8],\n",
        "         [1, 7],\n",
        "         [1, 4, 5],\n",
        "         [3, 5],\n",
        "         [3, 4],\n",
        "         [7],\n",
        "         [2, 6, 8],\n",
        "         [1, 7]\n",
        "]\n",
        "\n",
        "# 각 노드가 방문된 정보를 리스트 자료형으로 표현 (1차원 리스트)\n",
        "visited = [False] * 9\n",
        "\n",
        "# 정의된 DFS 함수 호출\n",
        "bfs(graph, 1, visited)"
      ],
      "execution_count": null,
      "outputs": [
        {
          "output_type": "stream",
          "text": [
            "1 2 3 8 7 4 5 6 "
          ],
          "name": "stdout"
        }
      ]
    },
    {
      "cell_type": "markdown",
      "metadata": {
        "id": "ngRDtrTo2CfY",
        "colab_type": "text"
      },
      "source": [
        "1차원 배열이나 2차원 배열 또한 그래프 형태로 생각하면 수월하게 문제 해결이 가능하다."
      ]
    },
    {
      "cell_type": "markdown",
      "metadata": {
        "id": "tw4ABHFv87lk",
        "colab_type": "text"
      },
      "source": [
        "## 실전 문제 3. 음료수 얼려 먹기"
      ]
    },
    {
      "cell_type": "code",
      "metadata": {
        "id": "iQFnwq6I87pw",
        "colab_type": "code",
        "colab": {
          "base_uri": "https://localhost:8080/",
          "height": 122
        },
        "outputId": "459ab7f5-5f2a-49db-ccc1-7d34e600d75c"
      },
      "source": [
        "# 답안 예시\n",
        "\n",
        "# N, M을 공백으로 구분해 입력받기\n",
        "n, m = map(int, input().split())\n",
        "\n",
        "# 2차원 리스트의 맵 정보 입력받기\n",
        "graph = []\n",
        "for i in range(n):\n",
        "    graph.append(list(map(int, input())))\n",
        "\n",
        "# DFS로 특정한 노드를 방문한 뒤에 연결된 모든 노드들도 방문\n",
        "def dfs(x, y):\n",
        "    # 주어진 범위를 벗어나는 경우 즉시 종료\n",
        "    if x <= -1 or x >= n or y <= -1 or y >= m:\n",
        "        return False\n",
        "    # 현재 노드를 아직 방문하지 않았다면\n",
        "    if graph[x][y] == 0:\n",
        "        # 해당 노드 방문처리\n",
        "        graph[x][y] = 1\n",
        "        # 상 하 좌 우의 위치도 모두 재귀적으로 호출\n",
        "        dfs(x-1, y)\n",
        "        dfs(x, y-1)\n",
        "        dfs(x+1, y)\n",
        "        dfs(x, y+1)\n",
        "        return True\n",
        "    return False\n",
        "\n",
        "# 모든 노드(위치)에 대해서 음료수 채우기\n",
        "result = 0\n",
        "for i in range(n):\n",
        "    for j in range(m):\n",
        "        # 현재 위치에서 DFS 수행\n",
        "        if dfs(i, j) == True:\n",
        "            result += 1\n",
        "\n",
        "print(result)"
      ],
      "execution_count": null,
      "outputs": [
        {
          "output_type": "stream",
          "text": [
            "4 5\n",
            "00110\n",
            "00011\n",
            "11111\n",
            "00000\n",
            "3\n"
          ],
          "name": "stdout"
        }
      ]
    },
    {
      "cell_type": "markdown",
      "metadata": {
        "id": "umnosJV8zwDq",
        "colab_type": "text"
      },
      "source": [
        "## 실전 문제 4. 미로 탈출"
      ]
    },
    {
      "cell_type": "code",
      "metadata": {
        "id": "Hfiuaj5C_10P",
        "colab_type": "code",
        "colab": {
          "base_uri": "https://localhost:8080/",
          "height": 140
        },
        "outputId": "67ea26f4-1144-4655-8b6f-1177a6bd92b4"
      },
      "source": [
        "# 답안 예시\n",
        "from collections import deque\n",
        "\n",
        "# n, m 입력 받기\n",
        "n, m = map(int, input().split())\n",
        "\n",
        "# 미로 입력 받기\n",
        "graph = []\n",
        "for _ in range(n):\n",
        "    graph.append(list(map(int, input())))\n",
        "\n",
        "# 이동할 네 방향 정의 (상 하 좌 우)\n",
        "dx = [-1, 1, 0, 0]\n",
        "dy = [0, 0, -1, 1]\n",
        "\n",
        "# BFS 소스코드 구현\n",
        "def bfs(x, y):\n",
        "    # 큐 구현을 위해 deque 라이브러리 사용\n",
        "    queue = deque()\n",
        "    queue.append((x, y))\n",
        "    # 큐가 빌 때까지 반복\n",
        "    while queue:\n",
        "        x, y = queue.popleft()\n",
        "        # 현재 위치에서 네 방향으로의 위치 확인\n",
        "        for i in range(4):\n",
        "            nx = x + dx[i]\n",
        "            ny = y + dy[i]\n",
        "            # 미로 찾기 공간을 벗어난 경우 무시\n",
        "            if nx < 0 or ny < 0 or nx >= n or ny >= m:\n",
        "                continue\n",
        "            # 벽인 경우 무시\n",
        "            if graph[nx][ny] == 0:\n",
        "                continue\n",
        "            # 해당 노드를 처음 방문하는 경우에만 최단 거리 기록\n",
        "            if graph[nx][ny] == 1:\n",
        "                graph[nx][ny] = graph[x][y] + 1\n",
        "                queue.append((nx, ny))\n",
        "\n",
        "    # 가장 오른쪽 아래까지의 최단 거리를 반환\n",
        "    return graph[n-1][m-1]\n",
        "\n",
        "# BFS를 수행한 결과 출력\n",
        "print(bfs(0, 0))"
      ],
      "execution_count": null,
      "outputs": [
        {
          "output_type": "stream",
          "text": [
            "5 6\n",
            "101010\n",
            "111111\n",
            "000001\n",
            "111111\n",
            "111111\n",
            "10\n"
          ],
          "name": "stdout"
        }
      ]
    },
    {
      "cell_type": "markdown",
      "metadata": {
        "id": "jGolLZu4_9a8",
        "colab_type": "text"
      },
      "source": [
        "## 08.27"
      ]
    },
    {
      "cell_type": "code",
      "metadata": {
        "id": "uzYemD3JzwHE",
        "colab_type": "code",
        "colab": {
          "base_uri": "https://localhost:8080/",
          "height": 125
        },
        "outputId": "3114ba69-9575-43c2-e948-f6d45db904ff"
      },
      "source": [
        "# 실전 문제 3. 음료수 얼려먹기\n",
        "\n",
        "n, m = map(int, input().split())\n",
        "\n",
        "# 얼음 입력 받기\n",
        "graph = []\n",
        "for _ in range(n):\n",
        "    graph.append(list(map(int, input())))\n",
        "\n",
        "# 한번 수행하면 연결된 모든 부분이 1로 됨.\n",
        "def dfs(x, y):\n",
        "    if x < 0 or x >= n or y < 0 or y >= m:\n",
        "        return False\n",
        "\n",
        "    if graph[x][y] == 0:\n",
        "        graph[x][y] = 1\n",
        "\n",
        "        dfs(x-1, y)\n",
        "        dfs(x, y-1)\n",
        "        dfs(x+1, y)\n",
        "        dfs(x, y+1)\n",
        "        return True\n",
        "    return False\n",
        "\n",
        "result = 0\n",
        "for i in range(n):\n",
        "    for j in range(m):\n",
        "        if dfs(i, j) == True:\n",
        "            result += 1\n",
        "\n",
        "print(result)"
      ],
      "execution_count": 8,
      "outputs": [
        {
          "output_type": "stream",
          "text": [
            "4 5\n",
            "00110\n",
            "00011\n",
            "11111\n",
            "00000\n",
            "3\n"
          ],
          "name": "stdout"
        }
      ]
    },
    {
      "cell_type": "code",
      "metadata": {
        "id": "xwcvooDTWRYe",
        "colab_type": "code",
        "colab": {}
      },
      "source": [
        "# 실전 문제 4. 미로 탈출\n",
        "\n",
        "from collections import deque\n",
        "n, m = map(int, input().split())\n",
        "\n",
        "graph = []\n",
        "for _ in range(n):\n",
        "    graph.append(list(map(int, input())))\n",
        "\n",
        "def bfs(x, y):\n",
        "    queue = deque()\n",
        "\n",
        "    # 범위 벗어난 경우 에러\n",
        "    if x < 0 or x > n or y < 0  or y > m:\n",
        "        return False\n",
        "    \n",
        "    # 큐가 빌 때까지\n",
        "    while queue:\n",
        "        queue.append(graph[x][y])"
      ],
      "execution_count": null,
      "outputs": []
    },
    {
      "cell_type": "code",
      "metadata": {
        "id": "OzmB5PoOWRc0",
        "colab_type": "code",
        "colab": {}
      },
      "source": [
        "from collections import deque\n",
        "def bfs(x, y):\n",
        "    queue = deque()\n",
        "    queue.append()\n",
        "\n",
        "    # 범위 벗어난 경우 에러\n",
        "    if x < 0 or x > n or y < 0  or y > m:\n",
        "        return False\n",
        "    \n",
        "    # 큐가 빌 때까지\n",
        "    while queue:\n",
        "        queue.append(graph[x][y])\n",
        "        print(queue)\n",
        "\n",
        "bfs(1, 1)"
      ],
      "execution_count": 11,
      "outputs": []
    },
    {
      "cell_type": "code",
      "metadata": {
        "id": "F2oIPQqxx9Yj",
        "colab_type": "code",
        "colab": {}
      },
      "source": [
        ""
      ],
      "execution_count": null,
      "outputs": []
    }
  ]
}
