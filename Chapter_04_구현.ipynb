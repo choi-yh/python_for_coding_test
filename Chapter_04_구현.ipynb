{
  "nbformat": 4,
  "nbformat_minor": 0,
  "metadata": {
    "colab": {
      "name": "Chapter 4. 구현.ipynb",
      "provenance": [],
      "collapsed_sections": [],
      "authorship_tag": "ABX9TyNpFxK5ii7kkLqNL4l5OsVJ",
      "include_colab_link": true
    },
    "kernelspec": {
      "name": "python3",
      "display_name": "Python 3"
    }
  },
  "cells": [
    {
      "cell_type": "markdown",
      "metadata": {
        "id": "view-in-github",
        "colab_type": "text"
      },
      "source": [
        "<a href=\"https://colab.research.google.com/github/choi-yh/python_for_coding_test/blob/master/Chapter_4_%EA%B5%AC%ED%98%84.ipynb\" target=\"_parent\"><img src=\"https://colab.research.google.com/assets/colab-badge.svg\" alt=\"Open In Colab\"/></a>"
      ]
    },
    {
      "cell_type": "markdown",
      "metadata": {
        "id": "Cl8Sy4k8rcp9",
        "colab_type": "text"
      },
      "source": [
        "### 예제 4-1 상하좌우"
      ]
    },
    {
      "cell_type": "code",
      "metadata": {
        "id": "oRk9ekD7r5sN",
        "colab_type": "code",
        "colab": {
          "base_uri": "https://localhost:8080/",
          "height": 53
        },
        "outputId": "e6e860da-2b42-4f91-ac49-9e20337187a1"
      },
      "source": [
        "# 내 코드\n",
        "\n",
        "n = int(input())\n",
        "move = list(map(str, input().split()))\n",
        "\n",
        "x = 1\n",
        "y = 1\n",
        "\n",
        "for word in move:\n",
        "    if (y == 1 and word == 'L') or (y == n and word == 'R') or (x == 1 and word == 'U') or (x == n and word == 'D'):\n",
        "        pass\n",
        "    elif word == 'R':\n",
        "        y += 1\n",
        "    elif word == 'L':\n",
        "        y -= 1\n",
        "    elif word == 'U':\n",
        "        x -= 1\n",
        "    elif word == 'D':\n",
        "        x += 1\n",
        "\n",
        "print(x, y)"
      ],
      "execution_count": null,
      "outputs": [
        {
          "output_type": "stream",
          "text": [
            "5\n",
            "R R R U D D\n"
          ],
          "name": "stdout"
        }
      ]
    },
    {
      "cell_type": "code",
      "metadata": {
        "id": "HS3tBeWvH-QS",
        "colab_type": "code",
        "colab": {
          "base_uri": "https://localhost:8080/",
          "height": 71
        },
        "outputId": "5268eb43-8074-46e3-eabe-3a34c3782afb"
      },
      "source": [
        "# N을 입력받기\n",
        "n = int(input())\n",
        "x, y = 1, 1\n",
        "plans = input().split()\n",
        "\n",
        "# L, R, U, D에 따른 이동 방향\n",
        "dx = [0, 0, -1, 1]\n",
        "dy = [-1, 1, 0, 0]\n",
        "move_types = ['L', 'R', 'U', 'D']\n",
        "\n",
        "# 이동 계획을 하나씩 확인\n",
        "for plan in plans:\n",
        "    # 이동 후 좌표 구하기\n",
        "    for i in range(len(move_types)):\n",
        "        if plan == move_types[i]:\n",
        "            nx = x + dx[i]\n",
        "            ny = y + dy[i]\n",
        "    # 공간을 벗어나는 경우 무시\n",
        "    if nx < 1 or ny < 1 or nx > n or ny > n:\n",
        "        continue\n",
        "    # 이동 수행\n",
        "    x, y = nx, ny\n",
        "\n",
        "print(x, y)"
      ],
      "execution_count": null,
      "outputs": [
        {
          "output_type": "stream",
          "text": [
            "5\n",
            "R R R U D D\n",
            "3 4\n"
          ],
          "name": "stdout"
        }
      ]
    },
    {
      "cell_type": "markdown",
      "metadata": {
        "id": "LYCzvP-Jy1vS",
        "colab_type": "text"
      },
      "source": [
        "### 예제 4-2 시각"
      ]
    },
    {
      "cell_type": "code",
      "metadata": {
        "id": "WnGUReKMR4K7",
        "colab_type": "code",
        "colab": {
          "base_uri": "https://localhost:8080/",
          "height": 53
        },
        "outputId": "8aae8b37-ea42-4bad-cda5-23d0a388a621"
      },
      "source": [
        "# 완전 탐색 (가능한 경우의 수를 모두 검사)\n",
        "\n",
        "n = int(input())\n",
        "\n",
        "count = 0\n",
        "for i in range(n+1):\n",
        "    for j in range(60):\n",
        "        for k in range(60):\n",
        "            if '3' in str(i) + str(j) + str(k):\n",
        "                count += 1\n",
        "\n",
        "print(count)"
      ],
      "execution_count": null,
      "outputs": [
        {
          "output_type": "stream",
          "text": [
            "5\n",
            "11475\n"
          ],
          "name": "stdout"
        }
      ]
    },
    {
      "cell_type": "markdown",
      "metadata": {
        "id": "iClIRFZrR7L6",
        "colab_type": "text"
      },
      "source": [
        "### 실전 문제 2. 왕실의 나이트"
      ]
    },
    {
      "cell_type": "code",
      "metadata": {
        "id": "p5iQtD8AR7PO",
        "colab_type": "code",
        "colab": {
          "base_uri": "https://localhost:8080/",
          "height": 35
        },
        "outputId": "bcf4e82f-2819-4971-db3a-6f1a2e29ba70"
      },
      "source": [
        "x = input()\n",
        "r = int(x[-1])\n",
        "c = x[0]\n",
        "\n",
        "row = [1, 2, 3, 4, 5, 6, 7, 8]\n",
        "col = ['a', 'b', 'c', 'd', 'e', 'f', 'g', 'h']\n",
        "\n",
        "lr = [-1, 1, 0, 0]\n",
        "ud = [0, 0, 1, -1]\n",
        "\n",
        "result = 0\n",
        "if (r >= 3 and r <= 6) and (c >= 'c' and c <= 'f'):\n",
        "    result = 8\n",
        "elif "
      ],
      "execution_count": null,
      "outputs": [
        {
          "output_type": "stream",
          "text": [
            "a1\n"
          ],
          "name": "stdout"
        }
      ]
    },
    {
      "cell_type": "code",
      "metadata": {
        "id": "9wDcKMClR70b",
        "colab_type": "code",
        "colab": {
          "base_uri": "https://localhost:8080/",
          "height": 53
        },
        "outputId": "e5483476-1f16-4891-c3fe-883ec798dcee"
      },
      "source": [
        "# 현재 위치를 기준으로 아래쪽과 오른쪽은 양수의 값, 왼쪽과 위쪽은 음수의 값 적용\n",
        "# 현재 나이트의 위치 입력받기\n",
        "input_data = input()\n",
        "row = int(input_data[1])\n",
        "column = int(ord(input_data[0])) - int(ord('a')) + 1\n",
        "\n",
        "# 나이트가 이동할 수 있는 8가지 방향 정의\n",
        "steps = [\n",
        "         (-2, -1), (-1, -2), (1, -2), (2, -1),\n",
        "         (2, 1), (1, 2), (-1, 2), (-2, 1)\n",
        "]\n",
        "\n",
        "# 8가지 방향에 대하여 각 위치로 이동이 가능한지 확인\n",
        "result = 0\n",
        "for step in steps:\n",
        "    # 이동하고자 하는 위치 확인\n",
        "    next_row = row + step[0]\n",
        "    next_column = column + step[1]\n",
        "    # 해당 위치로 이동이 가능하다면 카운트 증가\n",
        "    if next_row >= 1 and next_row <= 8 and next_column >= 1 and next_column <= 8:\n",
        "        result += 1\n",
        "\n",
        "print(result)"
      ],
      "execution_count": null,
      "outputs": [
        {
          "output_type": "stream",
          "text": [
            "a1\n",
            "2\n"
          ],
          "name": "stdout"
        }
      ]
    },
    {
      "cell_type": "markdown",
      "metadata": {
        "id": "S1w67QXgR4OC",
        "colab_type": "text"
      },
      "source": [
        "### 실전 문제 3. 게임 개발"
      ]
    },
    {
      "cell_type": "code",
      "metadata": {
        "id": "Rb2q7fuYR4Qt",
        "colab_type": "code",
        "colab": {
          "base_uri": "https://localhost:8080/",
          "height": 143
        },
        "outputId": "66a1b817-28e8-4830-d7b5-858c0fcff394"
      },
      "source": [
        "# 맵 크기 입력받기\n",
        "n, m = map(int, input().split())\n",
        "x, y, d = map(int, input().split())\n",
        "mapp = [list(map(int, input().split())) for _ in range(n)]\n",
        "\n",
        "direction = [(0, -1), (1, 0), (0, 1), (-1, 0)] # 북 동 남 서\n",
        "visit = [(x, y)]\n",
        "\n",
        "def direction_set(d):\n",
        "    if d == 0:\n",
        "        d += 3\n",
        "    else:\n",
        "        d -= 1\n",
        "    return d\n",
        "\n",
        "turn_count = 0\n",
        "count = 1\n",
        "while True:\n",
        "    # 방향 회전\n",
        "    d = direction_set(d)\n",
        "\n",
        "    # 이동할 좌표 설정\n",
        "    x_move = x + direction[d][0]\n",
        "    y_move = y + direction[d][1]\n",
        "\n",
        "    # 가보지 않은 칸이고 바다가 아닐 경우 이동\n",
        "    if (x_move, y_move) not in visit and mapp[x_move][y_move] == 0:\n",
        "        visit.append((x_move, y_move)) # 방문 처리\n",
        "        x = x_move # 이동\n",
        "        y = y_move \n",
        "        count += 1\n",
        "        turn_count = 0\n",
        "        continue\n",
        "    else:\n",
        "        turn_count += 1\n",
        "    \n",
        "    if turn_count == 4:\n",
        "        tmp_d = direction_set(direction_set(d)) # 뒤로 이동하기 위해\n",
        "\n",
        "        # 뒤로 이동\n",
        "        x_move = x + direction[tmp_d][0]\n",
        "        y_move = y + direction[tmp_d][1]\n",
        "\n",
        "        # 뒤가 바다일 경우 멈춘다\n",
        "        if mapp[x_move][y_move] == 1:\n",
        "            break\n",
        "        else:\n",
        "            x = x_move\n",
        "            y = y_move\n",
        "        turn_count = 0\n",
        "\n",
        "print(count)"
      ],
      "execution_count": null,
      "outputs": [
        {
          "output_type": "stream",
          "text": [
            "4 4\n",
            "1 1 0\n",
            "1 1 1 1\n",
            "1 0 0 1\n",
            "1 1 0 1\n",
            "1 1 1 1\n",
            "3\n"
          ],
          "name": "stdout"
        }
      ]
    },
    {
      "cell_type": "code",
      "metadata": {
        "id": "N8bwNTJfyYV9",
        "colab_type": "code",
        "colab": {}
      },
      "source": [
        ""
      ],
      "execution_count": null,
      "outputs": []
    },
    {
      "cell_type": "code",
      "metadata": {
        "id": "qZY9nyTYyYZ4",
        "colab_type": "code",
        "colab": {}
      },
      "source": [
        ""
      ],
      "execution_count": null,
      "outputs": []
    },
    {
      "cell_type": "code",
      "metadata": {
        "id": "EVITy7UxyYcx",
        "colab_type": "code",
        "colab": {}
      },
      "source": [
        ""
      ],
      "execution_count": null,
      "outputs": []
    },
    {
      "cell_type": "code",
      "metadata": {
        "id": "mbkybrcHyYfO",
        "colab_type": "code",
        "colab": {}
      },
      "source": [
        ""
      ],
      "execution_count": null,
      "outputs": []
    }
  ]
}
