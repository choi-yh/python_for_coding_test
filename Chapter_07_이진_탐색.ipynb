{
  "nbformat": 4,
  "nbformat_minor": 0,
  "metadata": {
    "colab": {
      "name": "Chapter 07. 이진 탐색.ipynb",
      "provenance": [],
      "collapsed_sections": [],
      "authorship_tag": "ABX9TyPPr9r0YhIy/89MSSCEZYMO",
      "include_colab_link": true
    },
    "kernelspec": {
      "name": "python3",
      "display_name": "Python 3"
    }
  },
  "cells": [
    {
      "cell_type": "markdown",
      "metadata": {
        "id": "view-in-github",
        "colab_type": "text"
      },
      "source": [
        "<a href=\"https://colab.research.google.com/github/choi-yh/python_for_coding_test/blob/master/Chapter_07_%EC%9D%B4%EC%A7%84_%ED%83%90%EC%83%89.ipynb\" target=\"_parent\"><img src=\"https://colab.research.google.com/assets/colab-badge.svg\" alt=\"Open In Colab\"/></a>"
      ]
    },
    {
      "cell_type": "markdown",
      "metadata": {
        "id": "IJny_JbFZIF2",
        "colab_type": "text"
      },
      "source": [
        "## 1. 범위를 반씩 좁혀가는 탐색\n",
        "\n",
        "\n",
        "### 순차 탐색 (Sequential Search)\n",
        "\n",
        "* 리스트 안에 있는 특정한 데이터를 찾기 위해 앞에서부터 데이터를 하나씩 차례대로 확인하는 방법\n",
        "* 정렬되지 않은 리스트에서 데이터를 찾아야 할 때 사용\n",
        "* **시간 복잡도**는 $O(N)$\n",
        "\n",
        "\n",
        "### 이진 탐색 (Binary Search)\n",
        "\n",
        "* 배열 내부의 데이터가 정렬되어 있어야만 사용할 수 있는 알고리즘\n",
        "* 찾으려는 데이터와 중간점 위치에 있는 데이터를 반복적으로 비교해서 원하는 데이터를 찾는다.\n",
        "* **시간 복잡도**는 $O(logN)$\n",
        "* ***데이터의 개수가 1000만 개를 넘어가거나 탐색 범위의 크기가 1000억 이상이면 이진 탐색을 생각하자***\n"
      ]
    },
    {
      "cell_type": "code",
      "metadata": {
        "id": "PvWp8UblZQL2",
        "colab_type": "code",
        "colab": {
          "base_uri": "https://localhost:8080/",
          "height": 70
        },
        "outputId": "07e7b87a-d3b8-4954-e5fb-7c27e82bb2af"
      },
      "source": [
        "# 재귀함수를 통한 이진 탐색 예제\n",
        "def binary_search(array, target, start, end):\n",
        "    if start > end:\n",
        "        return None\n",
        "    mid = (start + end) // 2\n",
        "    # 찾은 경우 중간점 인덱스 반환\n",
        "    if array[mid] == target:\n",
        "        return mid\n",
        "    # 중간점의 값보다 찾고자 하는 값이 작은 경우 왼쪽 확인\n",
        "    elif array[mid] > target:\n",
        "        return binary_search(array, target, start, mid-1)\n",
        "    # 중간점의 값보다 찾고자 하는 값이 큰 경우 오른쪽 확인\n",
        "    else:\n",
        "        return binary_search(array, target, mid+1, end)\n",
        "\n",
        "\n",
        "# n(원소의 개수)과 target(찾고자 하는 문자열)을 입력받기\n",
        "n, target = list(map(int, input().split()))\n",
        "# 전체 원소 입력받기\n",
        "array = list(map(int, input().split()))\n",
        "\n",
        "# 이진 탐색 수행 결과 출력\n",
        "result = binary_search(array, target, 0, n-1)\n",
        "if result == None:\n",
        "    print(\"원소가 존재하지 않습니다.\")\n",
        "else:\n",
        "    print(result+1)"
      ],
      "execution_count": 2,
      "outputs": [
        {
          "output_type": "stream",
          "text": [
            "10 7\n",
            "1 3 5 7 9 11 13 15 17 19\n",
            "4\n"
          ],
          "name": "stdout"
        }
      ]
    },
    {
      "cell_type": "code",
      "metadata": {
        "id": "Yu9-dtcoZQPZ",
        "colab_type": "code",
        "colab": {
          "base_uri": "https://localhost:8080/",
          "height": 70
        },
        "outputId": "8b5fec76-5705-48a9-ead0-dcb1024b2139"
      },
      "source": [
        "# 반복문을 사용한 이진 탐색 예제\n",
        "def binary_search(array, target, start, end):\n",
        "    while start <= end:\n",
        "        mid = (start + end) // 2\n",
        "        # 찾은 경우 중간점 인덱스 반환\n",
        "        if array[mid] == target:\n",
        "            return mid\n",
        "        # 중간점의 값보다 찾고자 하는 값이 작은 경우 왼쪽 확인\n",
        "        elif array[mid] > target:\n",
        "            end = mid-1\n",
        "        # 중간점의 값보다 찾고자 하는 값이 작은 경우 오른쪽 확인\n",
        "        else:\n",
        "            start = mid + 1\n",
        "    return None\n",
        "\n",
        "# n(원소의 개수)과 target(찾고자 하는 문자열)을 입력받기\n",
        "n, target = list(map(int, input().split()))\n",
        "# 전체 원소 입력받기\n",
        "array = list(map(int, input().split()))\n",
        "\n",
        "# 이진 탐색 수행 결과 출력\n",
        "result = binary_search(array, target, 0, n-1)\n",
        "if result == None:\n",
        "    print(\"원소가 존재하지 않습니다.\")\n",
        "else:\n",
        "    print(result+1)"
      ],
      "execution_count": 3,
      "outputs": [
        {
          "output_type": "stream",
          "text": [
            "10 7\n",
            "1 3 5 7 9 11 13 15 17 19\n",
            "4\n"
          ],
          "name": "stdout"
        }
      ]
    },
    {
      "cell_type": "markdown",
      "metadata": {
        "id": "Kh9lTAu_ZQVp",
        "colab_type": "text"
      },
      "source": [
        "## 실전 문제 2. 부품 찾기"
      ]
    },
    {
      "cell_type": "code",
      "metadata": {
        "id": "e60gVT72eqkO",
        "colab_type": "code",
        "colab": {
          "base_uri": "https://localhost:8080/",
          "height": 105
        },
        "outputId": "a3e4a1f4-d1e6-4ce1-91f1-98871066b498"
      },
      "source": [
        "# 값 입력받기\n",
        "n = int(input())\n",
        "data = list(map(int, input().split()))\n",
        "m = int(input())\n",
        "request = list(map(int, input().split()))\n",
        "\n",
        "# 데이터 정렬\n",
        "data.sort()\n",
        "def binary_search(array, target, start, end):\n",
        "    if start > end:\n",
        "        return False\n",
        "\n",
        "    mid = (start + end) // 2\n",
        "    if array[mid] == target:\n",
        "        return True\n",
        "    elif array[mid] > target: # target이 왼쪽에 있는 경우\n",
        "        return binary_search(array, target, start, mid-1)\n",
        "    else: # target이 오른쪽에 있는 경우\n",
        "        return binary_search(array, target, mid+1, end)\n",
        "\n",
        "for item in request:\n",
        "    result = binary_search(data, item, 0, n-1)\n",
        "    if  result == True:\n",
        "        print('yes', end=' ')\n",
        "    else:\n",
        "        print('no', end=' ')"
      ],
      "execution_count": 10,
      "outputs": [
        {
          "output_type": "stream",
          "text": [
            "5\n",
            "8 3 7 9 2\n",
            "3\n",
            "5 7 9\n",
            "no yes yes "
          ],
          "name": "stdout"
        }
      ]
    },
    {
      "cell_type": "code",
      "metadata": {
        "id": "11XwjPYXZQdR",
        "colab_type": "code",
        "colab": {}
      },
      "source": [
        ""
      ],
      "execution_count": null,
      "outputs": []
    },
    {
      "cell_type": "code",
      "metadata": {
        "id": "0r8EElaSia85",
        "colab_type": "code",
        "colab": {}
      },
      "source": [
        ""
      ],
      "execution_count": null,
      "outputs": []
    },
    {
      "cell_type": "code",
      "metadata": {
        "id": "TquNYt3vibBw",
        "colab_type": "code",
        "colab": {}
      },
      "source": [
        ""
      ],
      "execution_count": null,
      "outputs": []
    },
    {
      "cell_type": "code",
      "metadata": {
        "id": "XPafuAF3ZQYi",
        "colab_type": "code",
        "colab": {}
      },
      "source": [
        ""
      ],
      "execution_count": null,
      "outputs": []
    }
  ]
}