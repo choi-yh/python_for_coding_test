{
  "nbformat": 4,
  "nbformat_minor": 0,
  "metadata": {
    "colab": {
      "name": "Chapter 06. 정렬.ipynb",
      "provenance": [],
      "collapsed_sections": [],
      "authorship_tag": "ABX9TyOPt0JboVrKZ+Q/x35+X8q/",
      "include_colab_link": true
    },
    "kernelspec": {
      "name": "python3",
      "display_name": "Python 3"
    }
  },
  "cells": [
    {
      "cell_type": "markdown",
      "metadata": {
        "id": "view-in-github",
        "colab_type": "text"
      },
      "source": [
        "<a href=\"https://colab.research.google.com/github/choi-yh/python_for_coding_test/blob/master/Chapter_06_%EC%A0%95%EB%A0%AC.ipynb\" target=\"_parent\"><img src=\"https://colab.research.google.com/assets/colab-badge.svg\" alt=\"Open In Colab\"/></a>"
      ]
    },
    {
      "cell_type": "markdown",
      "metadata": {
        "id": "VBZAqrApHGAw",
        "colab_type": "text"
      },
      "source": [
        "## 1. 기준에 따라 데이터를 정렬"
      ]
    },
    {
      "cell_type": "markdown",
      "metadata": {
        "id": "zECZFbqmHM3F",
        "colab_type": "text"
      },
      "source": [
        "### 선택 정렬\n",
        "\n",
        "* 가장 작은 값을 선택해서 앞으로 보내는 알고리즘\n",
        "* **시간복잡도**: $O(N^2)$\n"
      ]
    },
    {
      "cell_type": "code",
      "metadata": {
        "id": "HlQuIYH_HM6n",
        "colab_type": "code",
        "colab": {
          "base_uri": "https://localhost:8080/",
          "height": 34
        },
        "outputId": "dc6382aa-418d-4716-ecad-ca322b835517"
      },
      "source": [
        "# 선택 정렬 예제\n",
        "array = [7, 5, 9, 0, 3, 1, 6, 2, 4, 8]\n",
        "\n",
        "for i in range(len(array)):\n",
        "    min_index = i # 가장 작은 원소의 인덱스\n",
        "    for j in range(i+1, len(array)):\n",
        "        if array[min_index] > array[j]:\n",
        "            min_index = j\n",
        "    array[i], array[min_index] = array[min_index], array[i]\n",
        "\n",
        "print(array)"
      ],
      "execution_count": 1,
      "outputs": [
        {
          "output_type": "stream",
          "text": [
            "[0, 1, 2, 3, 4, 5, 6, 7, 8, 9]\n"
          ],
          "name": "stdout"
        }
      ]
    },
    {
      "cell_type": "markdown",
      "metadata": {
        "id": "YwzEwCW6HM_7",
        "colab_type": "text"
      },
      "source": [
        "### 삽입 정렬\n",
        "\n",
        "* 데이터를 하나씩 확인하며, 각 데이터를 적절한 위치에 삽입하는 알고리즘\n",
        "* 특정한 데이터가 적절한 위치에 들어가기 이전에, 그 앞의 데이터는 모두 정렬되어 있다고 가정\n",
        "* **시간복잡도**: $O(N^2)$ (정렬이 되어있는 최선의 경우 $O(N^2)$\n"
      ]
    },
    {
      "cell_type": "code",
      "metadata": {
        "id": "QXyQIOy8IcBe",
        "colab_type": "code",
        "colab": {
          "base_uri": "https://localhost:8080/",
          "height": 34
        },
        "outputId": "5ba12c5b-e848-4c4d-f228-dcb8712f43a7"
      },
      "source": [
        "# 삽입 정렬 예제\n",
        "array = [7, 5, 9, 0, 3, 1, 6, 2, 4, 8]\n",
        "\n",
        "for i in range(1, len(array)):\n",
        "    for j in range(i, 0, -1): # 왼쪽으로 이동하며 확인\n",
        "        if array[j] < array[j-1]: # \n",
        "            array[j], array[j-1] = array[j-1], array[j]\n",
        "        else: # 자기보다 작은 데이터를 만나면 멈춘다.\n",
        "            break\n",
        "\n",
        "print(array)"
      ],
      "execution_count": 2,
      "outputs": [
        {
          "output_type": "stream",
          "text": [
            "[0, 1, 2, 3, 4, 5, 6, 7, 8, 9]\n"
          ],
          "name": "stdout"
        }
      ]
    },
    {
      "cell_type": "markdown",
      "metadata": {
        "id": "TIINeQKrIcFS",
        "colab_type": "text"
      },
      "source": [
        "### 퀵 정렬\n",
        "\n",
        "* 기준 데이터를 설정하고 그 기준보다 큰 데이터와 작은 데이터의 위치를 변경\n",
        "* **피벗(pivot)**을 사용\n",
        "* **시간복잡도**: $O(NlogN)$ (최악의 경우 $O(N^2)$)\n"
      ]
    },
    {
      "cell_type": "code",
      "metadata": {
        "id": "XJhOmvp-IcJ8",
        "colab_type": "code",
        "colab": {
          "base_uri": "https://localhost:8080/",
          "height": 34
        },
        "outputId": "82f58a89-57d8-4d1a-9d45-b69f008f4687"
      },
      "source": [
        "# 퀵 정렬 예제\n",
        "\n",
        "array = [7, 5, 9, 0, 3, 1, 6, 2, 4, 8]\n",
        "\n",
        "def quick_sort(array, start, end):\n",
        "    if start >= end: # 원소가 1개인 경우 종료\n",
        "        return\n",
        "    pivot = start # 피벗은 첫 번째 원소\n",
        "    left = start+1\n",
        "    right = end\n",
        "    while left <= right:\n",
        "        # 피벗보다 큰 데이터를 찾을 때까지 반복\n",
        "        while left <= end and array[left] <= array[pivot]:\n",
        "            left += 1\n",
        "        # 피벗보다 작은 데이터를 찾을 때까지 반복\n",
        "        while right > start and array[right] >= array[pivot]:\n",
        "            right -= 1\n",
        "        if left > right: # 엇갈렸다면 작은 right -= 1 데이터와 피벗을 교체\n",
        "            array[right], array[pivot] = array[pivot], array[right]\n",
        "        else: # 엇갈리지 않았다면 작은 데이터와 큰 데이터를 교체\n",
        "            array[left], array[right] = array[right], array[left]\n",
        "    # 분할 이후 왼쪽 부분과 오른쪽 부분에서 각각 정렬을 수행\n",
        "    quick_sort(array, start, right-1)\n",
        "    quick_sort(array, right+1, end)\n",
        "\n",
        "quick_sort(array, 0, len(array)-1)\n",
        "print(array)"
      ],
      "execution_count": 5,
      "outputs": [
        {
          "output_type": "stream",
          "text": [
            "[0, 1, 2, 3, 4, 5, 6, 7, 8, 9]\n"
          ],
          "name": "stdout"
        }
      ]
    },
    {
      "cell_type": "markdown",
      "metadata": {
        "id": "lMyrVmZpHNB9",
        "colab_type": "text"
      },
      "source": [
        "### 계수 정렬 (Count Sort)\n",
        "\n",
        "* 특정한 조건이 부합할 때만 사용할 수 있지만 매우 빠른 알고리즘\n",
        "* 데이터의 크기 범위가 제한되어 정수 형태로 표현할 수 있을 때만 사용가능\n",
        "* 모든 범위를 담을 수 있는 크기의 리스트를 선언해야한다.\n",
        "* **시간 복잡도**: $O(N + K)$ (K: 데이터 중 최대값의 크기)\n",
        "* 공간 복잡도 문제가 생길 수 있다. (ex) [0, 99999]인 데이터가 주어졌을때)\n",
        "\n",
        "* 라이브러리\n",
        "    * sorted()"
      ]
    },
    {
      "cell_type": "code",
      "metadata": {
        "id": "P2b-yFV2HNEw",
        "colab_type": "code",
        "colab": {
          "base_uri": "https://localhost:8080/",
          "height": 34
        },
        "outputId": "618803df-2b3e-4e0d-b00c-38e97e67955f"
      },
      "source": [
        "# 계수 정렬 예제\n",
        "# 모든 원소의 값이 0보다 크거나 같다고 가정\n",
        "array = [7, 5, 9, 0, 3, 1, 6, 2, 9, 1, 4, 8, 0, 5, 2]\n",
        "# 모든 범위를 포함하는 리스트 선언 (모든 값은 0으로 초기화)\n",
        "count = [0] * (max(array) + 1)\n",
        "\n",
        "for i in range(len(array)):\n",
        "    count[array[i]] += 1 # 각 데이터에 해당하는 인덱스의 값 증가\n",
        "\n",
        "for i in range(len(count)): # 리스트에 기록된 정렬 정보 확인\n",
        "    for j in range(count[i]):\n",
        "        print(i, end=' ') # 띄어쓰기를 구분으로 등장한 횟수만큼 인덱스 출력"
      ],
      "execution_count": 6,
      "outputs": [
        {
          "output_type": "stream",
          "text": [
            "0 0 1 1 2 2 3 4 5 5 6 7 8 9 9 "
          ],
          "name": "stdout"
        }
      ]
    },
    {
      "cell_type": "markdown",
      "metadata": {
        "id": "LQxE96JxMHwZ",
        "colab_type": "text"
      },
      "source": [
        "## 실전 문제 2. 위에서 아래로 (T 기업 코딩 테스트)"
      ]
    },
    {
      "cell_type": "code",
      "metadata": {
        "id": "SX1xjJQkQyYG",
        "colab_type": "code",
        "colab": {
          "base_uri": "https://localhost:8080/",
          "height": 105
        },
        "outputId": "c8cf6ecc-8c9e-4153-8d7d-828136aa9fa8"
      },
      "source": [
        "n = int(input())\n",
        "\n",
        "data = []\n",
        "for _ in range(n): # 수 입력 받아서 저장하기\n",
        "    data.append(int(input()))\n",
        "\n",
        "data.sort(reverse=True)\n",
        "for item in data:\n",
        "    print(item, end=' ')"
      ],
      "execution_count": 8,
      "outputs": [
        {
          "output_type": "stream",
          "text": [
            "3\n",
            "15\n",
            "27\n",
            "12\n",
            "27 15 12 "
          ],
          "name": "stdout"
        }
      ]
    },
    {
      "cell_type": "markdown",
      "metadata": {
        "id": "aBC8aAWLQycg",
        "colab_type": "text"
      },
      "source": [
        "## 실전 문제 3. 성적이 낮은 순서로 학생 출력하기 (D 기업 프로그래밍 콘테스트 예선)"
      ]
    },
    {
      "cell_type": "code",
      "metadata": {
        "id": "mAj6L4PyQyjd",
        "colab_type": "code",
        "colab": {
          "base_uri": "https://localhost:8080/",
          "height": 87
        },
        "outputId": "af5e491b-eef3-41e4-aecc-83f8a6137a8a"
      },
      "source": [
        "n = int(input())\n",
        "\n",
        "data = []\n",
        "for _ in range(n): # 이름과 성적 입력받기\n",
        "    a, b = map(str, input().split())\n",
        "    data.append((a, int(b)))\n",
        "\n",
        "data.sort(key= lambda student: student[1])\n",
        "for item in data:\n",
        "    print(item[0], end=' ')"
      ],
      "execution_count": 13,
      "outputs": [
        {
          "output_type": "stream",
          "text": [
            "2\n",
            "이순신 95\n",
            "홍길동 77\n",
            "이순신 홍길동 "
          ],
          "name": "stdout"
        }
      ]
    },
    {
      "cell_type": "markdown",
      "metadata": {
        "id": "rHTEv1k1QyfV",
        "colab_type": "text"
      },
      "source": [
        "## 실전 문제 4. 두 배열의 원소 교체 (국제 알고리즘 대회)"
      ]
    },
    {
      "cell_type": "code",
      "metadata": {
        "id": "VmMIp4iaU-4v",
        "colab_type": "code",
        "colab": {
          "base_uri": "https://localhost:8080/",
          "height": 87
        },
        "outputId": "ef4d48f5-eb0d-40a1-9f7a-c163893b3c8d"
      },
      "source": [
        "# A의 최솟값과 B의 최댓값을 바꿔주면 될것 같다.\n",
        "\n",
        "n, k = map(int, input().split())\n",
        "a = list(map(int, input().split()))\n",
        "b = list(map(int, input().split()))\n",
        "\n",
        "a.sort() # A는 오름차순 정렬\n",
        "b.sort(reverse=True) # B는 내림차순 정렬\n",
        "\n",
        "for i in range(k): # 최대 k번만큼 수행\n",
        "    if a[i] < b[i]:\n",
        "        a[i], b[i] = b[i], a[i]\n",
        "    else:\n",
        "        break\n",
        "\n",
        "print(sum(a))"
      ],
      "execution_count": 19,
      "outputs": [
        {
          "output_type": "stream",
          "text": [
            "5 3\n",
            "1 2 5 4 3\n",
            "5 5 6 6 5\n",
            "26\n"
          ],
          "name": "stdout"
        }
      ]
    },
    {
      "cell_type": "code",
      "metadata": {
        "id": "DVfhainTMH02",
        "colab_type": "code",
        "colab": {}
      },
      "source": [
        ""
      ],
      "execution_count": null,
      "outputs": []
    },
    {
      "cell_type": "code",
      "metadata": {
        "id": "WYIKuaQ0MH9h",
        "colab_type": "code",
        "colab": {}
      },
      "source": [
        ""
      ],
      "execution_count": null,
      "outputs": []
    }
  ]
}