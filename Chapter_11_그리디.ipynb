{
  "nbformat": 4,
  "nbformat_minor": 0,
  "metadata": {
    "colab": {
      "name": "Chapter 11. 그리디.ipynb",
      "provenance": [],
      "collapsed_sections": [],
      "authorship_tag": "ABX9TyN6ByPA5l0Lw7BWc4Q7bJfA",
      "include_colab_link": true
    },
    "kernelspec": {
      "name": "python3",
      "display_name": "Python 3"
    }
  },
  "cells": [
    {
      "cell_type": "markdown",
      "metadata": {
        "id": "view-in-github",
        "colab_type": "text"
      },
      "source": [
        "<a href=\"https://colab.research.google.com/github/choi-yh/python_for_coding_test/blob/master/Chapter_11_%EA%B7%B8%EB%A6%AC%EB%94%94.ipynb\" target=\"_parent\"><img src=\"https://colab.research.google.com/assets/colab-badge.svg\" alt=\"Open In Colab\"/></a>"
      ]
    },
    {
      "cell_type": "markdown",
      "metadata": {
        "id": "2-B3cSqcgE1M",
        "colab_type": "text"
      },
      "source": [
        "## 1회"
      ]
    },
    {
      "cell_type": "markdown",
      "metadata": {
        "id": "BuXxaKEwcrMY",
        "colab_type": "text"
      },
      "source": [
        "### 1. 모험가 길드"
      ]
    },
    {
      "cell_type": "code",
      "metadata": {
        "id": "498LX9wqdVDa",
        "colab_type": "code",
        "colab": {
          "base_uri": "https://localhost:8080/",
          "height": 71
        },
        "outputId": "cd70bcae-94aa-4069-89fb-84bbc941575e"
      },
      "source": [
        "# 큰 값부터 정렬하고 해당 값의 길이만큼 그룹을 나눈다.\n",
        "# 그룹으로 설정되지 않은 인원에 대해서 반복한다.\n",
        "\n",
        "n = int(input())\n",
        "data = list(map(int, input().split()))\n",
        "\n",
        "sort_data = sorted(data, reverse=True) # 내림차순 정렬\n",
        "\n",
        "result = []\n",
        "while True:\n",
        "    if len(sort_data) == 0: # 정렬된 리스트가 비게 될때까지\n",
        "        break\n",
        "\n",
        "    idx = sort_data[0] # 자를 값 설정 (가장 큰 값)\n",
        "    \n",
        "    # 가장 큰 값부터 잘라서 그룹을 만든다.\n",
        "    result.append(sort_data[:idx])\n",
        "    del sort_data[:idx] # 삭제\n",
        "\n",
        "print(len(result))"
      ],
      "execution_count": null,
      "outputs": [
        {
          "output_type": "stream",
          "text": [
            "6\n",
            "3 2 2 1 1 1\n",
            "4\n"
          ],
          "name": "stdout"
        }
      ]
    },
    {
      "cell_type": "markdown",
      "metadata": {
        "id": "YRWySziJdr7D",
        "colab_type": "text"
      },
      "source": [
        "최대한 많은 그룹을 만들기 위해서는 한 그룹에 최소 인원씩 들어가야한다. 따라서 오름차순으로 정렬하고 `현재 그룹에 있는 모험가`와 `현재 확인하는 공포도` 를 확인해서 그룹으로 설정하면된다.  \n",
        "\n",
        "내가 푼 결과는 다른 입력값을 넣었을 때 오류가 발생할 것 같다. 해당 방식으로 다시 구현해보자"
      ]
    },
    {
      "cell_type": "code",
      "metadata": {
        "id": "fmGvf0u7dr-s",
        "colab_type": "code",
        "colab": {}
      },
      "source": [
        ""
      ],
      "execution_count": null,
      "outputs": []
    },
    {
      "cell_type": "markdown",
      "metadata": {
        "id": "dHBJglw1kaVf",
        "colab_type": "text"
      },
      "source": [
        "### 2. 곱하기 혹은 더하기 (Facebook 인터뷰)"
      ]
    },
    {
      "cell_type": "code",
      "metadata": {
        "id": "ESGfw7INkaYv",
        "colab_type": "code",
        "colab": {
          "base_uri": "https://localhost:8080/",
          "height": 53
        },
        "outputId": "992dfda9-c5ef-4e35-a1ce-60fef24db3b3"
      },
      "source": [
        "# 뒤의 경우 0과 1은 무조건 더해야한다.\n",
        "# 나머지 값들은 곱하는 것이 좋다.\n",
        "\n",
        "# 결과값이 1일 때는 더하는 것이 커진다\n",
        "# 시작하는 값을 어떻게 설정할 것이냐 (0이 나온다면 상관없고 1이라면 더해줘야한다. 1+1과 1*1의 문제)\n",
        "\n",
        "s = input()\n",
        "\n",
        "result = 0\n",
        "for num in s:\n",
        "    num = int(num)\n",
        "    if result == 0: # 맨 처음 숫자 설정\n",
        "        result += num\n",
        "    elif result == 1: # 1일 경우는 수를 더해준다.\n",
        "        result += num\n",
        "    else:\n",
        "        if num == 0 or num == 1:\n",
        "            result += num\n",
        "        else:\n",
        "            result *= num\n",
        "\n",
        "print(result)"
      ],
      "execution_count": null,
      "outputs": [
        {
          "output_type": "stream",
          "text": [
            "12984\n",
            "864\n"
          ],
          "name": "stdout"
        }
      ]
    },
    {
      "cell_type": "markdown",
      "metadata": {
        "id": "bHZy2qrGks_K",
        "colab_type": "text"
      },
      "source": [
        "### 3. 문자열 뒤집기 (핵심 유형)\n",
        "\n",
        "https://www.acmicpc.net/problem/1439"
      ]
    },
    {
      "cell_type": "code",
      "metadata": {
        "id": "OyRaFIBFw5lG",
        "colab_type": "code",
        "colab": {
          "base_uri": "https://localhost:8080/",
          "height": 53
        },
        "outputId": "9c02e102-b7bc-4d86-e853-cde00e55ac53"
      },
      "source": [
        "# 121808KB / 152ms\n",
        "\n",
        "# 해당 숫자의 덩어리 갯수 확인\n",
        "# 0과 1 중에서 갯수가 적은 덩어리만큼만 세면 된다.\n",
        "# 시작부터 끝까지 확인하면서 값이 바뀔 때마다 count를 올려주자\n",
        "\n",
        "s = input()\n",
        "\n",
        "count_0 = 0 # 0 덩어리 갯수\n",
        "count_1 = 0 # 1 덩어리 갯수\n",
        "start = int(s[0])\n",
        "prev = start # 값이 바뀌는 것을 확인하기 위함\n",
        "\n",
        "# 시작 값\n",
        "if start == 0:\n",
        "    count_0 += 1\n",
        "else:\n",
        "    count_1 += 1\n",
        "\n",
        "for num in s:\n",
        "    num = int(num)\n",
        "\n",
        "    # 값이 바뀔 때마다 덩어리 갯수 파악\n",
        "    if prev != num and num == 0:\n",
        "        count_0 += 1\n",
        "    elif prev != num and num == 1:\n",
        "        count_1 += 1\n",
        "    \n",
        "    prev = num # 이전 값 갱신\n",
        "\n",
        "print(min(count_0, count_1))"
      ],
      "execution_count": null,
      "outputs": [
        {
          "output_type": "stream",
          "text": [
            "0001100\n",
            "1\n"
          ],
          "name": "stdout"
        }
      ]
    },
    {
      "cell_type": "markdown",
      "metadata": {
        "id": "CzBLmD0-x0WV",
        "colab_type": "text"
      },
      "source": [
        "전체 리스트의 원소를 앞에서부터 하나씩 확인, 0->1로 변경하거나 1->0으로 변경하는 경우 확인하는 방식"
      ]
    },
    {
      "cell_type": "markdown",
      "metadata": {
        "id": "TLfIYQW7x0Zm",
        "colab_type": "text"
      },
      "source": [
        "## 4. 만들 수 없는 금액 (K 대회 기출)"
      ]
    },
    {
      "cell_type": "code",
      "metadata": {
        "id": "18r9M7u8x0cE",
        "colab_type": "code",
        "colab": {}
      },
      "source": [
        "# 오름차순 정렬했을 때, 최솟값이 1이 아니라면 무조건 만들 수 없는 최솟값은 1\n",
        "# 작은 값부터 사용해야 할 것 같다.\n",
        "# \n",
        "\n",
        "n = int(input())\n",
        "coins = list(map(int, input().split()))\n",
        "coins.sort() # 최솟값부터 정렬\n",
        "\n",
        "result = 0\n",
        "if coins[0] != 1:\n",
        "    result = 1\n",
        "else:\n",
        "    "
      ],
      "execution_count": null,
      "outputs": []
    },
    {
      "cell_type": "markdown",
      "metadata": {
        "id": "7oQ2Ag6n6sra",
        "colab_type": "text"
      },
      "source": [
        "## 5. 볼링공 고르기 (2019 SW 마에스트로 입학 테스트)"
      ]
    },
    {
      "cell_type": "code",
      "metadata": {
        "id": "EAZzxfdUzyid",
        "colab_type": "code",
        "colab": {
          "base_uri": "https://localhost:8080/",
          "height": 70
        },
        "outputId": "7b033893-d954-4ff7-97bb-d5d706ac66f1"
      },
      "source": [
        "# 맨 처음부터 m까지 확인하면서 무게(값)이 다른 원소를 세면 된다.\n",
        "\n",
        "n, m = map(int, input().split())\n",
        "pound = list(map(int, input().split()))\n",
        "\n",
        "result = 0\n",
        "for i in range(n):\n",
        "    current = pound[i] # 시작점\n",
        "    for j in range(i, n):\n",
        "        if current != pound[j]:\n",
        "            result += 1\n",
        "\n",
        "print(result)"
      ],
      "execution_count": 2,
      "outputs": [
        {
          "output_type": "stream",
          "text": [
            "8 5\n",
            "1 5 4 3 2 4 5 2\n",
            "25\n"
          ],
          "name": "stdout"
        }
      ]
    },
    {
      "cell_type": "code",
      "metadata": {
        "id": "iTrLAN_MzynO",
        "colab_type": "code",
        "colab": {}
      },
      "source": [
        ""
      ],
      "execution_count": null,
      "outputs": []
    },
    {
      "cell_type": "code",
      "metadata": {
        "id": "f8lkgzcFzyrW",
        "colab_type": "code",
        "colab": {}
      },
      "source": [
        ""
      ],
      "execution_count": null,
      "outputs": []
    },
    {
      "cell_type": "code",
      "metadata": {
        "id": "RquL2Mo52beH",
        "colab_type": "code",
        "colab": {}
      },
      "source": [
        ""
      ],
      "execution_count": null,
      "outputs": []
    },
    {
      "cell_type": "code",
      "metadata": {
        "id": "Br-NJTVjw5oy",
        "colab_type": "code",
        "colab": {}
      },
      "source": [
        ""
      ],
      "execution_count": null,
      "outputs": []
    }
  ]
}